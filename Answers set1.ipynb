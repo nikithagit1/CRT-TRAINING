{
 "cells": [
  {
   "cell_type": "code",
   "execution_count": 9,
   "metadata": {},
   "outputs": [
    {
     "name": "stdout",
     "output_type": "stream",
     "text": [
      "positive\n"
     ]
    }
   ],
   "source": [
    " #Write a program to check if a number is positive.\n",
    "a=15\n",
    "if a>0:\n",
    "    print(\"positive\")\n",
    "if a<0:\n",
    "    print(\"negative\")"
   ]
  },
  {
   "cell_type": "code",
   "execution_count": 6,
   "metadata": {},
   "outputs": [
    {
     "name": "stdout",
     "output_type": "stream",
     "text": [
      "negative\n"
     ]
    }
   ],
   "source": [
    "#Write a program to check if a number is negative.\n",
    "a=-3\n",
    "if a<0:\n",
    "    print(\"negative\")\n",
    "if a>0:\n",
    "    print(\"positive\")"
   ]
  },
  {
   "cell_type": "code",
   "execution_count": 7,
   "metadata": {},
   "outputs": [
    {
     "name": "stdout",
     "output_type": "stream",
     "text": [
      "The number is zero\n"
     ]
    }
   ],
   "source": [
    "#Write a program to check if a number is zero\n",
    "a=0\n",
    "if a==0:\n",
    "    print(\"The number is zero\")\n",
    "if a!=0:\n",
    "    print(\"The number is not zero\")\n",
    "    "
   ]
  },
  {
   "cell_type": "code",
   "execution_count": 11,
   "metadata": {},
   "outputs": [
    {
     "name": "stdout",
     "output_type": "stream",
     "text": [
      "even\n"
     ]
    }
   ],
   "source": [
    " #Write a program to check if a number is even\n",
    "a=2\n",
    "if a%2==0:\n",
    "    print(\"even\")\n",
    "if a%2!=0:\n",
    "    print(\"odd\")\n",
    "    "
   ]
  },
  {
   "cell_type": "code",
   "execution_count": 13,
   "metadata": {},
   "outputs": [
    {
     "name": "stdout",
     "output_type": "stream",
     "text": [
      "odd\n"
     ]
    }
   ],
   "source": [
    "# Write a program to check if a number is odd.\n",
    "a=13\n",
    "if a%2!=0:\n",
    "    print(\"odd\")\n",
    "if a%2==0:\n",
    "    print(\"even\")"
   ]
  },
  {
   "cell_type": "code",
   "execution_count": 14,
   "metadata": {},
   "outputs": [
    {
     "name": "stdout",
     "output_type": "stream",
     "text": [
      "The number is greater than 10\n"
     ]
    }
   ],
   "source": [
    "#Write a program to check if a number is greater than 10.\n",
    "a=11\n",
    "if a>10:\n",
    "    print(\"The number is greater than 10\")\n",
    "if a<10:\n",
    "    print(\"The number is less than 10\")"
   ]
  },
  {
   "cell_type": "code",
   "execution_count": 15,
   "metadata": {},
   "outputs": [
    {
     "name": "stdout",
     "output_type": "stream",
     "text": [
      "less than or equal to 50\n"
     ]
    }
   ],
   "source": [
    "# Write a program to check if a number is less than or equal to 50\n",
    "a=46\n",
    "if a<=50:\n",
    "    print(\"less than or equal to 50\")\n",
    "if a>50:\n",
    "    print(\"greater than 50\")"
   ]
  },
  {
   "cell_type": "code",
   "execution_count": 16,
   "metadata": {},
   "outputs": [
    {
     "name": "stdout",
     "output_type": "stream",
     "text": [
      "Divisible by 5\n"
     ]
    }
   ],
   "source": [
    "# Write a program to check if a number is divisible by 5\n",
    "a=20\n",
    "if a%5==0:\n",
    "    print(\"Divisible by 5\")\n",
    "if a%5!=0:\n",
    "    print(\"not divisible by 5\")"
   ]
  },
  {
   "cell_type": "code",
   "execution_count": 17,
   "metadata": {},
   "outputs": [
    {
     "name": "stdout",
     "output_type": "stream",
     "text": [
      "Divisible by 3\n"
     ]
    }
   ],
   "source": [
    "#Write a program to check if a number is not divisible by 3\n",
    "a=22\n",
    "if a%3!=0:\n",
    "    print(\"Divisible by 3\")\n",
    "if a%3==0:\n",
    "    print(\"Not divisible by 3\")"
   ]
  },
  {
   "cell_type": "code",
   "execution_count": 18,
   "metadata": {},
   "outputs": [
    {
     "name": "stdout",
     "output_type": "stream",
     "text": [
      "The number is between 1 and 100\n"
     ]
    }
   ],
   "source": [
    "#Write a program to check if a number is between 1 and 100 (inclusive)\n",
    "a=70\n",
    "if 1<=a<=100:\n",
    "    print(\"The number is between 1 and 100\")\n",
    "if a<1:\n",
    "    print(\"not between 1 and 100\")"
   ]
  },
  {
   "cell_type": "code",
   "execution_count": null,
   "metadata": {},
   "outputs": [],
   "source": []
  }
 ],
 "metadata": {
  "kernelspec": {
   "display_name": "Python 3",
   "language": "python",
   "name": "python3"
  },
  "language_info": {
   "codemirror_mode": {
    "name": "ipython",
    "version": 3
   },
   "file_extension": ".py",
   "mimetype": "text/x-python",
   "name": "python",
   "nbconvert_exporter": "python",
   "pygments_lexer": "ipython3",
   "version": "3.12.4"
  }
 },
 "nbformat": 4,
 "nbformat_minor": 2
}
