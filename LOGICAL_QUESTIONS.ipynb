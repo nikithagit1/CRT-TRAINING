{
 "cells": [
  {
   "cell_type": "code",
   "execution_count": 39,
   "id": "7c3f295f",
   "metadata": {},
   "outputs": [
    {
     "name": "stdout",
     "output_type": "stream",
     "text": [
      "n: -9\n",
      "Negative number\n"
     ]
    }
   ],
   "source": [
    "# Logical Question 1\n",
    "# Write a Python program to check whether a given integer is positive, negative, or zero using if-elif-else statements.\n",
    "# Hint: Use the 'if', 'elif', and 'else' structure to compare the integer with zero.\n",
    "\n",
    "n=int(input())\n",
    "print(\"n:\",n)\n",
    "if n>0:\n",
    "    print(\"Positive Number\")\n",
    "elif n<0:\n",
    "    print(\"Negative number\")\n",
    "else:\n",
    "    print(\"Zero\")"
   ]
  },
  {
   "cell_type": "code",
   "execution_count": 40,
   "id": "4c1d48e6",
   "metadata": {},
   "outputs": [
    {
     "name": "stdout",
     "output_type": "stream",
     "text": [
      "a: 77\n",
      "Odd\n"
     ]
    }
   ],
   "source": [
    "# Logical Question 2\n",
    "# Write a program to determine if a number is even or odd.\n",
    "# Hint: Use the modulo operator (%) to check divisibility by 2.\n",
    "\n",
    "a=int(input())\n",
    "print(\"a:\",a)\n",
    "if (a%2==0):\n",
    "    print(\"Even\")\n",
    "else:\n",
    "    print(\"Odd\")"
   ]
  },
  {
   "cell_type": "code",
   "execution_count": 41,
   "id": "2a284426",
   "metadata": {},
   "outputs": [
    {
     "name": "stdout",
     "output_type": "stream",
     "text": [
      "n1: 23\n",
      "n2: 17\n",
      "n3: 20\n",
      "N1 is largest\n"
     ]
    }
   ],
   "source": [
    "# Logical Question 3\n",
    "# Create a program to find the largest of three integers entered by the user.\n",
    "# Hint: Use nested if-else statements or multiple if-elif conditions.\n",
    "\n",
    "n1=int(input())\n",
    "n2=int(input())\n",
    "n3=int(input())\n",
    "\n",
    "print(\"n1:\",n1)\n",
    "print(\"n2:\",n2)\n",
    "print(\"n3:\",n3)\n",
    "\n",
    "if n1>n2 and n1>n3:\n",
    "    print(\"N1 is largest\")\n",
    "elif n2>n1 and n2>n3:\n",
    "    print(\"N2 is largest\")\n",
    "else:\n",
    "    print(\"N3 is largest\")"
   ]
  },
  {
   "cell_type": "code",
   "execution_count": 42,
   "id": "f3fe5fdb",
   "metadata": {},
   "outputs": [
    {
     "name": "stdout",
     "output_type": "stream",
     "text": [
      "year: 2024\n",
      "Year is leap year\n"
     ]
    }
   ],
   "source": [
    "# Logical Question 4\n",
    "# Write a program that checks if a year is a leap year.\n",
    "# Hint: A year is a leap year if it is divisible by 4 but not divisible by 100 unless it is also divisible by 400.\n",
    "\n",
    "yr=int(input())\n",
    "print(\"year:\",yr)\n",
    "if (yr%4==0 and yr%100!=0) or (yr%400==0):\n",
    "    print(\"Year is leap year\")\n",
    "else:\n",
    "    print(\"Not leap\")"
   ]
  },
  {
   "cell_type": "code",
   "execution_count": 43,
   "id": "7f50808c",
   "metadata": {},
   "outputs": [
    {
     "name": "stdout",
     "output_type": "stream",
     "text": [
      "Marks: 88\n",
      "Grade: B\n"
     ]
    }
   ],
   "source": [
    "# Logical Question 5\n",
    "# Develop a Python program to calculate the grade based on marks entered by the user.\n",
    "# Hint: Use if-elif-else to define ranges for grades (e.g., A, B, C, etc.).\n",
    "\n",
    "marks=int(input())\n",
    "print(\"Marks:\",marks)\n",
    "if marks>90:\n",
    "    print(\"Grade: A\")\n",
    "elif 81<marks<91:\n",
    "    print(\"Grade: B\")\n",
    "elif 71<marks<81:\n",
    "    print(\"Grade C\")\n",
    "elif 61<marks<71:\n",
    "    print(\"Grade D\")\n",
    "else:\n",
    "    print(\"Grade: Fail\")"
   ]
  },
  {
   "cell_type": "code",
   "execution_count": 44,
   "id": "d137fbb2",
   "metadata": {},
   "outputs": [
    {
     "name": "stdout",
     "output_type": "stream",
     "text": [
      "1\n",
      "2\n",
      "3\n",
      "4\n",
      "5\n",
      "6\n",
      "7\n",
      "8\n",
      "9\n",
      "10\n"
     ]
    }
   ],
   "source": [
    "# Logical Question 6\n",
    "# Write a Python program to display numbers from 1 to 10 using a while loop.\n",
    "# Hint: Initialize a variable and increment it inside the loop until it reaches 10.\n",
    "\n",
    "n=1\n",
    "while n<=10:\n",
    "    print(n)\n",
    "    n+=1"
   ]
  },
  {
   "cell_type": "code",
   "execution_count": 45,
   "id": "49d100a3",
   "metadata": {},
   "outputs": [
    {
     "name": "stdout",
     "output_type": "stream",
     "text": [
      "Factorial of 5: 120\n"
     ]
    }
   ],
   "source": [
    "# Logical Question 7\n",
    "# Create a program to find the factorial of a number using a while loop.\n",
    "# Hint: Multiply numbers from the given number down to 1 inside the loop.\n",
    "\n",
    "n=int(input())\n",
    "c=1\n",
    "a=1\n",
    "while c<=n:\n",
    "    a*=c\n",
    "    c+=1 \n",
    "print(f\"Factorial of {n}:\",a)"
   ]
  },
  {
   "cell_type": "code",
   "execution_count": 46,
   "id": "e261b90b",
   "metadata": {},
   "outputs": [
    {
     "name": "stdout",
     "output_type": "stream",
     "text": [
      "2\n",
      "4\n",
      "6\n",
      "8\n",
      "10\n",
      "12\n",
      "14\n",
      "16\n",
      "18\n",
      "20\n",
      "22\n",
      "24\n",
      "26\n",
      "28\n",
      "30\n",
      "32\n",
      "34\n",
      "36\n",
      "38\n",
      "40\n",
      "42\n",
      "44\n",
      "46\n",
      "48\n",
      "50\n"
     ]
    }
   ],
   "source": [
    "# Logical Question 8\n",
    "# Write a Python program that prints all even numbers from 1 to 50 using a while loop.\n",
    "# Hint: Use a condition to check if the number is even before printing it.\n",
    "\n",
    "a=1\n",
    "while a<=50:\n",
    "    if a%2==0:\n",
    "        print(a)\n",
    "    a+=1"
   ]
  },
  {
   "cell_type": "code",
   "execution_count": 47,
   "id": "cd6f9ab5",
   "metadata": {},
   "outputs": [
    {
     "name": "stdout",
     "output_type": "stream",
     "text": [
      "7\n",
      "Sum 28\n"
     ]
    }
   ],
   "source": [
    "# Logical Question 9\n",
    "# Develop a program to calculate the sum of all integers between 1 and a number entered by the user using a while loop.\n",
    "# Hint: Use a loop to add numbers incrementally.\n",
    "\n",
    "n=int(input())\n",
    "print(n)\n",
    "a=1\n",
    "c=0 \n",
    "while a<=n:\n",
    "    c+=a \n",
    "    a+=1 \n",
    "print(\"Sum\",c)"
   ]
  },
  {
   "cell_type": "code",
   "execution_count": 48,
   "id": "baedb595",
   "metadata": {},
   "outputs": [
    {
     "name": "stdout",
     "output_type": "stream",
     "text": [
      "605\n"
     ]
    }
   ],
   "source": [
    "# Logical Question 10\n",
    "# Write a program to reverse a given number using a while loop.\n",
    "# Hint: Use modulus and integer division to extract digits and rebuild the number in reverse.\n",
    "\n",
    "n=int(input())\n",
    "num=0\n",
    "while n>0:\n",
    "    a=n%10 \n",
    "    num=num*10+a \n",
    "    n=n//10 \n",
    "print(num)"
   ]
  },
  {
   "cell_type": "code",
   "execution_count": 49,
   "id": "1dd708f4",
   "metadata": {},
   "outputs": [
    {
     "name": "stdout",
     "output_type": "stream",
     "text": [
      "Not Palindrome\n"
     ]
    }
   ],
   "source": [
    "# Logical Question 11\n",
    "# Create a program to check whether a number is a palindrome or not using a while loop.\n",
    "# Hint: Reverse the number and compare it with the original.\n",
    "\n",
    "n=int(input())\n",
    "b=n\n",
    "num=0\n",
    "while n>0:\n",
    "    a=n%10 \n",
    "    num=num*10+a \n",
    "    n=n//10 \n",
    "if num==b:\n",
    "    print(\"Palindrome\")\n",
    "else:\n",
    "    print(\"Not Palindrome\")\n"
   ]
  },
  {
   "cell_type": "code",
   "execution_count": 50,
   "id": "ac085831",
   "metadata": {},
   "outputs": [
    {
     "name": "stdout",
     "output_type": "stream",
     "text": [
      "5\n"
     ]
    }
   ],
   "source": [
    "# Logical Question 12\n",
    "# Write a program to count the number of digits in a given integer using a while loop.\n",
    "# Hint: Use integer division repeatedly to remove the last digit.\n",
    "\n",
    "n=int(input())\n",
    "b=len(str(n))\n",
    "c=0\n",
    "\n",
    "while n>1:\n",
    "    n=n//10 \n",
    "    #print(n)\n",
    "    c+=1 \n",
    "    b-=1\n",
    "print(c)"
   ]
  },
  {
   "cell_type": "code",
   "execution_count": 51,
   "id": "8c86bbb1",
   "metadata": {},
   "outputs": [],
   "source": [
    "# Logical Question 13\n",
    "# Develop a Python program to find the greatest common divisor (GCD) of two numbers using a while loop.\n",
    "# Hint: Use the Euclidean algorithm.\n",
    "\n"
   ]
  },
  {
   "cell_type": "code",
   "execution_count": 52,
   "id": "14403725",
   "metadata": {},
   "outputs": [],
   "source": [
    "# Logical Question 14\n",
    "# Create a program to print the Fibonacci sequence up to a given number of terms using a while loop.\n",
    "# Hint: Start with 0 and 1, then add the last two numbers in the sequence repeatedly.\n"
   ]
  },
  {
   "cell_type": "code",
   "execution_count": 53,
   "id": "dfb1a88e",
   "metadata": {},
   "outputs": [],
   "source": [
    "# Logical Question 15\n",
    "# Write a Python program to find whether a number is prime or not using a while loop.\n",
    "# Hint: A prime number is only divisible by 1 and itself; check divisibility from 2 to the square root of the number.\n"
   ]
  },
  {
   "cell_type": "code",
   "execution_count": null,
   "id": "e3ef03ed",
   "metadata": {},
   "outputs": [],
   "source": []
  }
 ],
 "metadata": {
  "kernelspec": {
   "display_name": "Python 3",
   "language": "python",
   "name": "python3"
  },
  "language_info": {
   "codemirror_mode": {
    "name": "ipython",
    "version": 3
   },
   "file_extension": ".py",
   "mimetype": "text/x-python",
   "name": "python",
   "nbconvert_exporter": "python",
   "pygments_lexer": "ipython3",
   "version": "3.13.1"
  }
 },
 "nbformat": 4,
 "nbformat_minor": 5
}
