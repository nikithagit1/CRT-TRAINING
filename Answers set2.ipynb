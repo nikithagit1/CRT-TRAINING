{
 "cells": [
  {
   "cell_type": "code",
   "execution_count": 1,
   "metadata": {},
   "outputs": [
    {
     "name": "stdout",
     "output_type": "stream",
     "text": [
      "Positive\n"
     ]
    }
   ],
   "source": [
    "# Logical Question 1\n",
    "# Write a Python program to check whether a given integer is positive, negative, or zero using if-elif-else statements.\n",
    "# Hint: Use the 'if', 'elif', and 'else' structure to compare the integer with zero.\n",
    "a=int(input())\n",
    "if a>0:\n",
    "    print(\"Positive\")\n",
    "elif a<0:\n",
    "    print(\"Negative\")\n",
    "else:\n",
    "    print(\"Zero\")"
   ]
  },
  {
   "cell_type": "code",
   "execution_count": 2,
   "metadata": {},
   "outputs": [
    {
     "name": "stdout",
     "output_type": "stream",
     "text": [
      "The number is even.\n"
     ]
    }
   ],
   "source": [
    "# Logical Question 2\n",
    "# Write a program to determine if a number is even or odd.\n",
    "# Hint: Use the modulo operator (%) to check divisibility by 2.\n",
    "a=20\n",
    "if a%2==0:\n",
    "    print(\"The number is even.\")\n",
    "else:\n",
    "    print(\"The number is odd.\")"
   ]
  },
  {
   "cell_type": "code",
   "execution_count": 3,
   "metadata": {},
   "outputs": [
    {
     "name": "stdout",
     "output_type": "stream",
     "text": [
      "b is largest\n"
     ]
    }
   ],
   "source": [
    "# Logical Question 3\n",
    "# Create a program to find the largest of three integers entered by the user.\n",
    "# Hint: Use nested if-else statements or multiple if-elif conditions.\n",
    "a=40\n",
    "b=50\n",
    "c=20\n",
    "if a>b and a>c:\n",
    "    print(\"a is largest\")\n",
    "elif b>a and b>c:\n",
    "    print(\"b is largest\")\n",
    "elif c>a and c>b:\n",
    "    print(\"c is largest\")\n",
    "else:\n",
    "    print(\"no\")"
   ]
  },
  {
   "cell_type": "code",
   "execution_count": 6,
   "metadata": {},
   "outputs": [
    {
     "name": "stdout",
     "output_type": "stream",
     "text": [
      "Leap year\n"
     ]
    }
   ],
   "source": [
    "# Logical Question 4\n",
    "# Write a program that checks if a year is a leap year.\n",
    "# Hint: A year is a leap year if it is divisible by 4 but not divisible by 100 unless it is also divisible by 400.\n",
    "a=2028\n",
    "if a%4==0 and (a%100!=0 or a%400==0):\n",
    "    print(\"Leap year\")\n",
    "else:\n",
    "    print(\"Not a leap year\")"
   ]
  },
  {
   "cell_type": "code",
   "execution_count": 8,
   "metadata": {},
   "outputs": [
    {
     "name": "stdout",
     "output_type": "stream",
     "text": [
      "Grade A\n"
     ]
    }
   ],
   "source": [
    "# Logical Question 5\n",
    "# Develop a Python program to calculate the grade based on marks entered by the user.\n",
    "# Hint: Use if-elif-else to define ranges for grades (e.g., A, B, C, etc.).\n",
    "a=100  \n",
    "if a>=80:\n",
    "    print(\"Grade A\")\n",
    "elif a>=70 and a<80:\n",
    "    print(\"Grade B\")\n",
    "elif a>=60 and a<70:\n",
    "    print(\"Grade C\")\n",
    "elif a>=50 and a<60:\n",
    "    print(\"Grade D\")\n",
    "else:\n",
    "    print(\"Grade F\")"
   ]
  },
  {
   "cell_type": "code",
   "execution_count": 18,
   "metadata": {},
   "outputs": [
    {
     "name": "stdout",
     "output_type": "stream",
     "text": [
      "1\n",
      "2\n",
      "3\n",
      "4\n",
      "5\n",
      "6\n",
      "7\n",
      "8\n",
      "9\n",
      "10\n"
     ]
    }
   ],
   "source": [
    "# Logical Question 6\n",
    "# Write a Python program to display numbers from 1 to 10 using a while loop.\n",
    "# Hint: Initialize a variable and increment it inside the loop until it reaches 10.\n",
    "n=1                #n=1\n",
    "while n<=10:       #while n<11:\n",
    "    print(n)       #n = n+1\n",
    "    n=n+1          #print(n)\n",
    "    if n>10: \n",
    "        break\n",
    "        "
   ]
  },
  {
   "cell_type": "code",
   "execution_count": 3,
   "metadata": {},
   "outputs": [
    {
     "name": "stdout",
     "output_type": "stream",
     "text": [
      "40320\n"
     ]
    }
   ],
   "source": [
    "# Logical Question 7\n",
    "# Create a program to find the factorial of a number using a while loop.\n",
    "# Hint: Multiply numbers from the given number down to 1 inside the loop.\n",
    "n=int(input())\n",
    "a=1\n",
    "c=1\n",
    "while c<=n:\n",
    "    a=a*c\n",
    "    c+=1\n",
    "print(a) "
   ]
  },
  {
   "cell_type": "code",
   "execution_count": 4,
   "metadata": {},
   "outputs": [
    {
     "name": "stdout",
     "output_type": "stream",
     "text": [
      "2\n",
      "4\n",
      "6\n",
      "8\n",
      "10\n",
      "12\n",
      "14\n",
      "16\n",
      "18\n",
      "20\n",
      "22\n",
      "24\n",
      "26\n",
      "28\n",
      "30\n",
      "32\n",
      "34\n",
      "36\n",
      "38\n",
      "40\n",
      "42\n",
      "44\n",
      "46\n",
      "48\n"
     ]
    }
   ],
   "source": [
    "#Logical Question 8\n",
    "# Write a Python program that prints all even numbers from 1 to 50 using a while loop.\n",
    "# Hint: Use a condition to check if the number is even before printing it.\n",
    "n=2\n",
    "while n<50:\n",
    "    print(n)\n",
    "    n=n+2 \n"
   ]
  },
  {
   "cell_type": "code",
   "execution_count": null,
   "metadata": {},
   "outputs": [],
   "source": [
    "# Logical Question 9\n",
    "# Develop a program to calculate the sum of all integers between 1 and a number entered by the user using a while loop.\n",
    "# Hint: Use a loop to add numbers incrementally.\n",
    "a=1\n",
    "b=int(input())\n"
   ]
  }
 ],
 "metadata": {
  "kernelspec": {
   "display_name": "Python 3",
   "language": "python",
   "name": "python3"
  },
  "language_info": {
   "codemirror_mode": {
    "name": "ipython",
    "version": 3
   },
   "file_extension": ".py",
   "mimetype": "text/x-python",
   "name": "python",
   "nbconvert_exporter": "python",
   "pygments_lexer": "ipython3",
   "version": "3.12.4"
  }
 },
 "nbformat": 4,
 "nbformat_minor": 2
}
