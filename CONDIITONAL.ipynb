{
 "cells": [
  {
   "cell_type": "code",
   "execution_count": 1,
   "metadata": {},
   "outputs": [],
   "source": [
    "a=10\n",
    "b=12"
   ]
  },
  {
   "cell_type": "code",
   "execution_count": 2,
   "metadata": {},
   "outputs": [
    {
     "name": "stdout",
     "output_type": "stream",
     "text": [
      "2\n"
     ]
    }
   ],
   "source": [
    "if a>b:\n",
    "    print(\"1\")\n",
    "elif a==10:\n",
    "    print(\"2\")\n",
    "elif a<b:\n",
    "    print(\"3\")\n",
    "elif b==12:\n",
    "    print(\"4\")\n",
    "else:\n",
    "    print(\"5\")"
   ]
  },
  {
   "cell_type": "code",
   "execution_count": 3,
   "metadata": {},
   "outputs": [
    {
     "name": "stdout",
     "output_type": "stream",
     "text": [
      "3\n"
     ]
    }
   ],
   "source": [
    "if a>b:\n",
    "    print(\"1\")\n",
    "elif a==100:\n",
    "    print(\"2\")\n",
    "elif a<b:\n",
    "    print(\"3\")\n",
    "elif b==12:\n",
    "    print(\"4\")\n",
    "else:\n",
    "    print(\"5\")"
   ]
  },
  {
   "cell_type": "code",
   "execution_count": 4,
   "metadata": {},
   "outputs": [
    {
     "name": "stdout",
     "output_type": "stream",
     "text": [
      "4\n"
     ]
    }
   ],
   "source": [
    "if a>b:\n",
    "    print(\"1\")\n",
    "elif a==100:\n",
    "    print(\"2\")\n",
    "elif a+3<b:\n",
    "    print(\"3\")\n",
    "elif b==12:\n",
    "    print(\"4\")\n",
    "else:\n",
    "    print(\"5\")"
   ]
  },
  {
   "cell_type": "code",
   "execution_count": 5,
   "metadata": {},
   "outputs": [
    {
     "name": "stdout",
     "output_type": "stream",
     "text": [
      "5\n"
     ]
    }
   ],
   "source": [
    "if a>b:\n",
    "    print(\"1\")\n",
    "elif a==100:\n",
    "    print(\"2\")\n",
    "elif a+3<b:\n",
    "    print(\"3\")\n",
    "elif b==122:\n",
    "    print(\"4\")\n",
    "else:\n",
    "    print(\"5\")"
   ]
  },
  {
   "cell_type": "code",
   "execution_count": null,
   "metadata": {},
   "outputs": [],
   "source": []
  }
 ],
 "metadata": {
  "kernelspec": {
   "display_name": "Python 3",
   "language": "python",
   "name": "python3"
  },
  "language_info": {
   "codemirror_mode": {
    "name": "ipython",
    "version": 3
   },
   "file_extension": ".py",
   "mimetype": "text/x-python",
   "name": "python",
   "nbconvert_exporter": "python",
   "pygments_lexer": "ipython3",
   "version": "3.13.1"
  }
 },
 "nbformat": 4,
 "nbformat_minor": 2
}
