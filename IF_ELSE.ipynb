{
 "cells": [
  {
   "cell_type": "code",
   "execution_count": 1,
   "metadata": {},
   "outputs": [
    {
     "name": "stdout",
     "output_type": "stream",
     "text": [
      "positive\n"
     ]
    }
   ],
   "source": [
    "x=30\n",
    "if x%2==0:\n",
    "    print(\"positive\")\n",
    "else:\n",
    "    print(\"negative\")"
   ]
  },
  {
   "cell_type": "code",
   "execution_count": 5,
   "metadata": {},
   "outputs": [
    {
     "name": "stdout",
     "output_type": "stream",
     "text": [
      "test1\n"
     ]
    }
   ],
   "source": [
    "a=10\n",
    "b=20      #elif will not execute because the above condition true\n",
    "if a+b>0:\n",
    "    print(\"test1\")    \n",
    "elif a>5:\n",
    "    print(\"test2\")\n",
    "else:\n",
    "    print(\"test3\")"
   ]
  },
  {
   "cell_type": "code",
   "execution_count": 7,
   "metadata": {},
   "outputs": [
    {
     "name": "stdout",
     "output_type": "stream",
     "text": [
      "test1\n",
      "test0\n",
      "testz\n",
      "test2\n"
     ]
    }
   ],
   "source": [
    "a=10\n",
    "b=20      #elif will not execute because the above condition true\n",
    "if a+b>0:\n",
    "    print(\"test1\") \n",
    "if 5>2:\n",
    "    print(\"test0\")   \n",
    "else:                  #the if condition always execute if it is true\n",
    "    print(\"testn\")     #elif condition will not execute because the above if condition is true\n",
    "if 8>5:                #isolation of if is to be kept in mind\n",
    "    print(\"testz\")\n",
    "if 9>50:\n",
    "    print(\"testb\")\n",
    "elif a>5:\n",
    "    print(\"test2\")\n",
    "else:\n",
    "    print(\"test3\")"
   ]
  },
  {
   "cell_type": "code",
   "execution_count": 11,
   "metadata": {},
   "outputs": [
    {
     "name": "stdout",
     "output_type": "stream",
     "text": [
      "test0\n",
      "test\n"
     ]
    }
   ],
   "source": [
    "if 5>2:                 #if is isolated here\n",
    "    print(\"test0\")      \n",
    "if 7>2:\n",
    "    print(\"test\")\n",
    "elif 5>2:\n",
    "    print(\"test2\")\n",
    "elif 7>1:\n",
    "    print(\"test3\")\n",
    "else:\n",
    "    print(\"test4\")"
   ]
  },
  {
   "cell_type": "code",
   "execution_count": 14,
   "metadata": {},
   "outputs": [
    {
     "name": "stdout",
     "output_type": "stream",
     "text": [
      "2\n",
      "4\n",
      "6\n",
      "8\n",
      "10\n",
      "12\n",
      "14\n",
      "16\n",
      "18\n",
      "20\n",
      "22\n",
      "24\n",
      "26\n",
      "28\n",
      "30\n",
      "32\n",
      "34\n",
      "36\n",
      "38\n",
      "40\n",
      "42\n",
      "44\n",
      "46\n",
      "48\n",
      "50\n"
     ]
    }
   ],
   "source": [
    "#looping 1.)while 2.)For loop 3.)Recursion\n",
    "#1.while loop syntax\n",
    "#while condition:\n",
    "    # code to be executed    \n",
    "    # #if the conditon is true the code will execute if the condition is false  the code will not execute\n",
    "    #main idea of while loop is to make the code false\n",
    "#even numbers 2 to 50\n",
    "n=2\n",
    "while n<52:\n",
    "    print(n)\n",
    "    n=n+2                        "
   ]
  },
  {
   "cell_type": "code",
   "execution_count": 20,
   "metadata": {},
   "outputs": [
    {
     "name": "stdout",
     "output_type": "stream",
     "text": [
      "1\n",
      "3\n",
      "5\n",
      "7\n",
      "9\n",
      "11\n",
      "13\n",
      "15\n",
      "17\n",
      "19\n",
      "21\n",
      "23\n",
      "25\n",
      "27\n",
      "29\n",
      "31\n",
      "33\n",
      "35\n",
      "37\n",
      "39\n",
      "41\n",
      "43\n",
      "45\n",
      "47\n",
      "49\n",
      "51\n"
     ]
    }
   ],
   "source": [
    "#odd numbers 2 to 50\n",
    "n=1\n",
    "while n<52:\n",
    "    print(n)\n",
    "    n=n+2  "
   ]
  },
  {
   "cell_type": "code",
   "execution_count": 16,
   "metadata": {},
   "outputs": [
    {
     "name": "stdout",
     "output_type": "stream",
     "text": [
      "1\n",
      "2\n",
      "3\n",
      "4\n",
      "5\n",
      "6\n",
      "7\n",
      "8\n",
      "9\n",
      "10\n"
     ]
    }
   ],
   "source": [
    "#numbers print 10\n",
    "n=10\n",
    "c=1\n",
    "while c<=n:\n",
    "    print(c)\n",
    "    c=c+1"
   ]
  },
  {
   "cell_type": "code",
   "execution_count": 18,
   "metadata": {},
   "outputs": [
    {
     "name": "stdout",
     "output_type": "stream",
     "text": [
      "1\n",
      "2\n",
      "5\n",
      "10\n"
     ]
    }
   ],
   "source": [
    "#factors\n",
    "n=10\n",
    "c=1\n",
    "while c<=n:\n",
    "    if n%c==0:\n",
    "        print(c)\n",
    "    c = c+1"
   ]
  },
  {
   "cell_type": "code",
   "execution_count": 21,
   "metadata": {},
   "outputs": [
    {
     "name": "stdout",
     "output_type": "stream",
     "text": [
      "4\n"
     ]
    }
   ],
   "source": [
    "#how many factors are there for a number\n",
    "n=10\n",
    "c=1\n",
    "cnt = 0  #if while condition is false all the code will not execute\n",
    "while c<=n:\n",
    "    if n%c==0:\n",
    "        cnt+=1\n",
    "    c=c+1\n",
    "print(cnt)"
   ]
  },
  {
   "cell_type": "code",
   "execution_count": 26,
   "metadata": {},
   "outputs": [
    {
     "name": "stdout",
     "output_type": "stream",
     "text": [
      "number of factors: 2\n",
      "prime\n"
     ]
    }
   ],
   "source": [
    "#prime number\n",
    "n=13\n",
    "c=1\n",
    "cnt = 0  #if while condition is false all the code will not execute\n",
    "while c<=n:\n",
    "    if n%c==0:\n",
    "        cnt+=1\n",
    "    c=c+1                            #1.find the count of factors of number\n",
    "print(\"number of factors:\", cnt)     #2.the number is prime or not\n",
    "if cnt == 2:\n",
    "    print(\"prime\")\n",
    "else:\n",
    "    print(\"not prime\")"
   ]
  },
  {
   "cell_type": "code",
   "execution_count": null,
   "metadata": {},
   "outputs": [],
   "source": []
  }
 ],
 "metadata": {
  "kernelspec": {
   "display_name": "Python 3",
   "language": "python",
   "name": "python3"
  },
  "language_info": {
   "codemirror_mode": {
    "name": "ipython",
    "version": 3
   },
   "file_extension": ".py",
   "mimetype": "text/x-python",
   "name": "python",
   "nbconvert_exporter": "python",
   "pygments_lexer": "ipython3",
   "version": "3.12.4"
  }
 },
 "nbformat": 4,
 "nbformat_minor": 2
}
